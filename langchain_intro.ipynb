{
 "cells": [
  {
   "cell_type": "markdown",
   "metadata": {},
   "source": [
    "# Deep Dive into LangChain"
   ]
  },
  {
   "cell_type": "markdown",
   "metadata": {},
   "source": [
    "## import the openAI key"
   ]
  },
  {
   "cell_type": "code",
   "execution_count": 3,
   "metadata": {},
   "outputs": [],
   "source": [
    "from dotenv import load_dotenv\n",
    "import os\n",
    "load_dotenv(\"./.env\")\n",
    "API_KEY = os.getenv(\"API_OAI_KEY\")"
   ]
  },
  {
   "cell_type": "markdown",
   "metadata": {},
   "source": [
    "## ChatModels: GPT-3.5-Turbo and GPT-4"
   ]
  },
  {
   "cell_type": "code",
   "execution_count": 7,
   "metadata": {},
   "outputs": [
    {
     "name": "stdout",
     "output_type": "stream",
     "text": [
      "Quantum mechanics is a fundamental theory in physics that describes the behavior of matter and energy at the smallest scales, where particles exhibit wave-particle duality and uncertainty principles, leading to phenomena that defy classical intuition.\n"
     ]
    }
   ],
   "source": [
    "from langchain_openai import ChatOpenAI\n",
    "\n",
    "prompt = \"Explain Quantum Mechanics in one sentence\"\n",
    "\n",
    "llm = ChatOpenAI(api_key=API_KEY, model=\"gpt-4o-mini\")\n",
    "output = llm.invoke(prompt)\n",
    "print(output.content)"
   ]
  },
  {
   "cell_type": "code",
   "execution_count": 8,
   "metadata": {},
   "outputs": [],
   "source": [
    "# Defining the roles using LangChain\n",
    "from langchain.schema import (\n",
    "\tSystemMessage,\n",
    "\tAIMessage,\n",
    "\tHumanMessage\n",
    "\n",
    ")"
   ]
  },
  {
   "cell_type": "code",
   "execution_count": 9,
   "metadata": {},
   "outputs": [
    {
     "name": "stdout",
     "output_type": "stream",
     "text": [
      "Quantenmechanik ist die Theorie, die das Verhalten von Materie und Energie auf der kleinsten Skala, der atomaren und subatomaren Ebene, beschreibt und dabei Konzepte wie Superposition und Verschränkung einführt.\n"
     ]
    }
   ],
   "source": [
    "messages = [\n",
    "\tSystemMessage(content=\"Your are a physisit and respond only in German\"),\n",
    "\tHumanMessage(content=\"Explain Quantum Mechanics in one sentence\")\n",
    "]\n",
    "\n",
    "output = llm.invoke(messages)\n",
    "print(output.content)"
   ]
  },
  {
   "cell_type": "markdown",
   "metadata": {},
   "source": [
    "## Caching LLM Responses"
   ]
  },
  {
   "cell_type": "markdown",
   "metadata": {},
   "source": [
    "### In-memory cache"
   ]
  },
  {
   "cell_type": "code",
   "execution_count": 12,
   "metadata": {},
   "outputs": [],
   "source": [
    "from langchain.globals import set_llm_cache\n",
    "from langchain_openai import OpenAI\n",
    "\n",
    "llm = OpenAI(model_name = \"gpt-3.5-turbo-instruct\", api_key=API_KEY)"
   ]
  },
  {
   "cell_type": "code",
   "execution_count": 13,
   "metadata": {},
   "outputs": [
    {
     "name": "stdout",
     "output_type": "stream",
     "text": [
      "CPU times: user 55.4 ms, sys: 18.6 ms, total: 74 ms\n",
      "Wall time: 1.06 s\n"
     ]
    },
    {
     "data": {
      "text/plain": [
       "\"\\n\\nWhy did the banana go to the doctor?\\nBecause it wasn't peeling well!\""
      ]
     },
     "execution_count": 13,
     "metadata": {},
     "output_type": "execute_result"
    }
   ],
   "source": [
    "%%time \n",
    "from langchain.cache import InMemoryCache\n",
    "set_llm_cache(InMemoryCache())\n",
    "prompt = \"Tell me a joke that a toddler can understand.\"\n",
    "\n",
    "llm.invoke(prompt)"
   ]
  },
  {
   "cell_type": "code",
   "execution_count": 14,
   "metadata": {},
   "outputs": [
    {
     "name": "stdout",
     "output_type": "stream",
     "text": [
      "CPU times: user 238 μs, sys: 45 μs, total: 283 μs\n",
      "Wall time: 286 μs\n"
     ]
    },
    {
     "data": {
      "text/plain": [
       "\"\\n\\nWhy did the banana go to the doctor?\\nBecause it wasn't peeling well!\""
      ]
     },
     "execution_count": 14,
     "metadata": {},
     "output_type": "execute_result"
    }
   ],
   "source": [
    "%%time\n",
    "llm.invoke(prompt)"
   ]
  },
  {
   "cell_type": "markdown",
   "metadata": {},
   "source": [
    "## LLM Streaming"
   ]
  },
  {
   "cell_type": "code",
   "execution_count": 18,
   "metadata": {},
   "outputs": [
    {
     "name": "stdout",
     "output_type": "stream",
     "text": [
      "**Title: \"Raven on the Moon\"**\n",
      "\n",
      "**Verse 1**  \n",
      "Under midnight's velvet skies,  \n",
      "A silver glow ignites our eyes,  \n",
      "Where shadows dance and whispers play,  \n",
      "The raven calls, it leads the way.  \n",
      "\n",
      "**Pre-Chorus**  \n",
      "With feathers black as darkest night,  \n",
      "He soars through stars, a ghost in flight,  \n",
      "The Moon is high, a watchful shroud,  \n",
      "Together we'll break free from the crowd.\n",
      "\n",
      "**Chorus**  \n",
      "Raven on the Moon, take me higher,  \n",
      "Through the darkness, set my soul on fire,  \n",
      "In the stillness, we find our truth,  \n",
      "With wings of midnight, we’ll break loose.  \n",
      "\n",
      "**Verse 2**  \n",
      "Echoes of the past, they linger near,  \n",
      "A haunting song that draws us here,  \n",
      "With every beat, my heart aligns,  \n",
      "To the rhythm of ancient times.  \n",
      "\n",
      "**Pre-Chorus**  \n",
      "The Moon it glows, casting spells so bright,  \n",
      "With every flap, we ignite the night,  \n",
      "Lost in dreams, we’ll ride the tides,  \n",
      "A cosmic dance where our fate collides.\n",
      "\n",
      "**Chorus**  \n",
      "Raven on the Moon, take me higher,  \n",
      "Through the darkness, set my soul on fire,  \n",
      "In the stillness, we find our truth,  \n",
      "With wings of midnight, we’ll break loose.  \n",
      "\n",
      "**Bridge**  \n",
      "Soaring past the craters and the dust,  \n",
      "Unraveling the mysteries, in fate we trust,  \n",
      "With every glance, the Universe unfolds,  \n",
      "Together forever, we’re brave and bold.  \n",
      "\n",
      "**Chorus**  \n",
      "Raven on the Moon, take me higher,  \n",
      "Through the darkness, set my soul on fire,  \n",
      "In the stillness, we find our truth,  \n",
      "With wings of midnight, we’ll break loose.  \n",
      "\n",
      "**Outro**  \n",
      "Oh, under the lunar glow, we howl,  \n",
      "The Raven's call, it fuels our growl,  \n",
      "On this journey, we will never wane,  \n",
      "A bond unbroken, in joy and pain.  \n",
      "\n",
      "**(Fade out with electric guitar solo, building into a crescendo before drifting into silence.)**"
     ]
    }
   ],
   "source": [
    "from langchain_openai import ChatOpenAI\n",
    "\n",
    "llm = ChatOpenAI(api_key=API_KEY, model=\"gpt-4o-mini\")\n",
    "prompt = \"Write a rock song about the Moon and a Raven.\"\n",
    "for chunk in llm.stream(prompt):\n",
    "\tprint(chunk.content, end=\"\", flush=True)"
   ]
  },
  {
   "cell_type": "markdown",
   "metadata": {},
   "source": [
    "## Prompt Templates"
   ]
  },
  {
   "cell_type": "code",
   "execution_count": 20,
   "metadata": {},
   "outputs": [
    {
     "name": "stdout",
     "output_type": "stream",
     "text": [
      "Le VIH, ou virus de l'immunodéficience humaine, est un rétrovirus qui attaque le système immunitaire, notamment les cellules CD4, cruciales pour la défense de l'organisme contre les infections. Si le VIH n'est pas traité, il peut évoluer vers le sida, une phase où le système immunitaire est gravement compromis. La transmission du VIH se produit principalement par les relations sexuelles non protégées, le partage de seringues et de la mère à l'enfant pendant la grossesse, l'accouchement ou l'allaitement. Grâce aux avancées en matière de traitements antirétroviraux, les personnes vivant avec le VIH peuvent mener une vie saine et réduire considérablement le risque de transmission.\n"
     ]
    }
   ],
   "source": [
    "from langchain.prompts import PromptTemplate\n",
    "from langchain_openai import ChatOpenAI\n",
    "\n",
    "template = ''' You are an experienced virologist.\n",
    "Write a few senteces about the following virus {virus} in {language}\n",
    "'''\n",
    "prompt_template = PromptTemplate.from_template(template=template)\n",
    "\n",
    "prompt = prompt_template.format(virus=\"hiv\", language=\"french\")\n",
    "\n",
    "llm = ChatOpenAI(api_key=API_KEY, model=\"gpt-4o-mini\")\n",
    "output = llm.invoke(prompt)\n",
    "\n",
    "print(output.content)"
   ]
  },
  {
   "cell_type": "markdown",
   "metadata": {},
   "source": [
    "## ChatPromptTemplate"
   ]
  },
  {
   "cell_type": "code",
   "execution_count": 21,
   "metadata": {},
   "outputs": [
    {
     "name": "stdout",
     "output_type": "stream",
     "text": [
      "[SystemMessage(content='You respond only in the JSON format', additional_kwargs={}, response_metadata={}), HumanMessage(content='Top 10 contries in Europe by population', additional_kwargs={}, response_metadata={})]\n",
      "{\n",
      "    \"1\": {\n",
      "        \"country\": \"Germany\",\n",
      "        \"population\": 83019200\n",
      "    },\n",
      "    \"2\": {\n",
      "        \"country\": \"France\",\n",
      "        \"population\": 67158000\n",
      "    },\n",
      "    \"3\": {\n",
      "        \"country\": \"United Kingdom\",\n",
      "        \"population\": 66040229\n",
      "    },\n",
      "    \"4\": {\n",
      "        \"country\": \"Italy\",\n",
      "        \"population\": 60376370\n",
      "    },\n",
      "    \"5\": {\n",
      "        \"country\": \"Spain\",\n",
      "        \"population\": 46733038\n",
      "    },\n",
      "    \"6\": {\n",
      "        \"country\": \"Ukraine\",\n",
      "        \"population\": 41660983\n",
      "    },\n",
      "    \"7\": {\n",
      "        \"country\": \"Poland\",\n",
      "        \"population\": 38433600\n",
      "    },\n",
      "    \"8\": {\n",
      "        \"country\": \"Romania\",\n",
      "        \"population\": 19405156\n",
      "    },\n",
      "    \"9\": {\n",
      "        \"country\": \"Netherlands\",\n",
      "        \"population\": 17424591\n",
      "    },\n",
      "    \"10\": {\n",
      "        \"country\": \"Belgium\",\n",
      "        \"population\": 11589623\n",
      "    }\n",
      "}\n"
     ]
    }
   ],
   "source": [
    "from langchain.prompts import ChatPromptTemplate, HumanMessagePromptTemplate\n",
    "from langchain_core.messages import SystemMessage\n",
    "\n",
    "chat_template = ChatPromptTemplate.from_messages(\n",
    "\t[\n",
    "\t\tSystemMessage(content=\"You respond only in the JSON format\"),\n",
    "\t\tHumanMessagePromptTemplate.from_template(\"Top {n} contries in {area} by population\")\n",
    "\t]\n",
    ")\n",
    "\n",
    "messages = chat_template.format_messages(n=\"10\", area=\"Europe\")\n",
    "print(messages)\n",
    "\n",
    "from langchain_openai import ChatOpenAI\n",
    "\n",
    "llm = ChatOpenAI(api_key=API_KEY)\n",
    "output = llm.invoke(messages)\n",
    "\n",
    "print(output.content)"
   ]
  },
  {
   "cell_type": "markdown",
   "metadata": {},
   "source": [
    "## Simple Chains"
   ]
  },
  {
   "cell_type": "code",
   "execution_count": 23,
   "metadata": {},
   "outputs": [
    {
     "name": "stdout",
     "output_type": "stream",
     "text": [
      "\n",
      "\n",
      "\u001b[1m> Entering new LLMChain chain...\u001b[0m\n",
      "Prompt after formatting:\n",
      "\u001b[32;1m\u001b[1;3m\n",
      "You are an experienced virologist.\n",
      "Write a few sentences about the following virus HSV in Spanish\n",
      "\u001b[0m\n",
      "\n",
      "\u001b[1m> Finished chain.\u001b[0m\n",
      "El virus del herpes simple (HSV) es una infección viral que afecta a los humanos. Se transmite principalmente a través del contacto directo con las lesiones causadas por el virus. Existen dos tipos de HSV, el HSV-1 que suele causar herpes labial y el HSV-2 que se asocia mayormente con el herpes genital. El virus del herpes simple puede ser recurrente en algunos individuos, causando brotes de síntomas como ampollas, dolor y picazón en la piel.\n"
     ]
    }
   ],
   "source": [
    "from langchain_openai import ChatOpenAI\n",
    "from langchain import PromptTemplate\n",
    "\n",
    "from langchain.chains import LLMChain\n",
    "\n",
    "llm = ChatOpenAI(api_key=API_KEY)\n",
    "template = '''\n",
    "You are an experienced virologist.\n",
    "Write a few sentences about the following virus {virus} in {language}\n",
    "'''\n",
    "prompt_template = PromptTemplate.from_template(template=template)\n",
    "\n",
    "chain = LLMChain(\n",
    "\tllm = llm,\n",
    "\tprompt = prompt_template,\n",
    "\tverbose=True\n",
    ")\n",
    "\n",
    "output = chain.invoke({\"virus\":\"HSV\", \"language\":\"Spanish\"})\n",
    "print(output[\"text\"])"
   ]
  },
  {
   "cell_type": "markdown",
   "metadata": {},
   "source": [
    "## Sequential Chains"
   ]
  },
  {
   "cell_type": "code",
   "execution_count": 24,
   "metadata": {},
   "outputs": [
    {
     "name": "stdout",
     "output_type": "stream",
     "text": [
      "\n",
      "\n",
      "\u001b[1m> Entering new SimpleSequentialChain chain...\u001b[0m\n",
      "\u001b[36;1m\u001b[1;3mSure, here is an example of a Python function that implements linear regression:\n",
      "\n",
      "```python\n",
      "import numpy as np\n",
      "\n",
      "def linear_regression(X, y):\n",
      "    # Add a column of ones for the intercept term\n",
      "    X = np.hstack((np.ones((X.shape[0], 1)), X))\n",
      "    \n",
      "    # Calculate the coefficients using the normal equation\n",
      "    theta = np.linalg.inv(X.T.dot(X)).dot(X.T).dot(y)\n",
      "    \n",
      "    return theta\n",
      "\n",
      "# Example usage\n",
      "X = np.array([[1, 2], [2, 3], [3, 4], [4, 5]])\n",
      "y = np.array([3, 4, 5, 6])\n",
      "\n",
      "theta = linear_regression(X, y)\n",
      "print(theta)\n",
      "```\n",
      "\n",
      "In this function, we first add a column of ones to the input matrix `X` to account for the intercept term. Then, we calculate the coefficients `theta` using the normal equation formula: `(X^T * X)^-1 * X^T * y`. Finally, we return the coefficients `theta` as the output of the function.\u001b[0m\n",
      "\u001b[33;1m\u001b[1;3mCertainly! Let's break down the provided Python function for linear regression step by step, understanding each component in detail:\n",
      "\n",
      "### Overview\n",
      "\n",
      "Linear regression is a statistical method used to model and analyze the relationship between a dependent variable (response) and one or more independent variables (predictors). The goal is to find the best-fitting linear equation that describes how the dependent variable changes as the independent variables change.\n",
      "\n",
      "In this case, we implement linear regression using the **Normal Equation**, which provides a method for directly calculating the coefficients of the regression line based on the provided data.\n",
      "\n",
      "### Code Breakdown\n",
      "\n",
      "#### 1. Importing Necessary Libraries\n",
      "\n",
      "```python\n",
      "import numpy as np\n",
      "```\n",
      "\n",
      "- The code begins by importing the NumPy library (imported as `np`), which is a fundamental package for scientific computing in Python. It provides support for handling arrays and performing mathematical operations efficiently.\n",
      "\n",
      "#### 2. Defining the `linear_regression` Function\n",
      "\n",
      "```python\n",
      "def linear_regression(X, y):\n",
      "```\n",
      "\n",
      "- Here we define a function named `linear_regression` that takes two parameters:\n",
      "  - `X`: A 2D numpy array or matrix where each row represents a data point (observation) and each column represents a feature (independent variable).\n",
      "  - `y`: A 1D numpy array or vector containing the target or dependent variable values corresponding to each observation in `X`.\n",
      "\n",
      "#### 3. Adding an Intercept Term\n",
      "\n",
      "```python\n",
      "X = np.hstack((np.ones((X.shape[0], 1)), X))\n",
      "```\n",
      "\n",
      "- To account for the intercept in the linear equation (which represents the value of `y` when all predictors are zero), we need to add a column of ones to the left of the features matrix `X`.\n",
      "  \n",
      "  - `X.shape[0]` returns the number of rows in `X`, which is the number of observations.\n",
      "  - `np.ones((X.shape[0], 1))` creates a column vector of ones with the same number of rows as `X`.\n",
      "  - `np.hstack(...)` horizontally stacks the column of ones and the original `X` to create an augmented matrix. The modified version of `X` now includes a column of ones as its first column.\n",
      "\n",
      "#### 4. Calculating the Coefficients Using the Normal Equation\n",
      "\n",
      "```python\n",
      "theta = np.linalg.inv(X.T.dot(X)).dot(X.T).dot(y)\n",
      "```\n",
      "\n",
      "- This line uses the **Normal Equation** to compute the optimal parameters (coefficients) for the linear regression.\n",
      "  \n",
      "  - **Normal Equation Formula**: \\[ \\Theta = (X^TX)^{-1}X^Ty \\]\n",
      "    - `X.T.dot(X)` computes the dot product of the transpose of X (`X^T`) with X, yielding a square matrix.\n",
      "    - `np.linalg.inv(X.T.dot(X))` takes the inverse of the calculated matrix. This step can only be performed if `(X^TX)` is invertible.\n",
      "    - `X.T.dot(y)` computes the product of the transpose of X and the target vector y.\n",
      "    - The overall dot product calculates the coefficients `theta`. This vector contains the weight for each feature, including the intercept term.\n",
      "\n",
      "#### 5. Returning the Coefficients\n",
      "\n",
      "```python\n",
      "return theta\n",
      "```\n",
      "\n",
      "- Finally, the function returns the computed coefficients `theta`, which represents the linear regression model defined by the input features and target variable.\n",
      "\n",
      "### Example Usage\n",
      "\n",
      "```python\n",
      "# Example usage\n",
      "X = np.array([[1, 2], [2, 3], [3, 4], [4, 5]])\n",
      "y = np.array([3, 4, 5, 6])\n",
      "\n",
      "theta = linear_regression(X, y)\n",
      "print(theta)\n",
      "```\n",
      "\n",
      "- The example creates a simple dataset:\n",
      "  - `X` is a 2D array with four data points, each having two features.\n",
      "  - `y` is the corresponding output values for those points.\n",
      "  \n",
      "- When `linear_regression(X, y)` is invoked, it computes the coefficients for the linear regression based on the input data. The result, stored in `theta`, is printed to the console.\n",
      "\n",
      "### Expected Output\n",
      "\n",
      "- Running this code with the provided data will output coefficients, which might resemble something like this:\n",
      "\n",
      "```\n",
      "[2.00000000e+00 1.00000000e+00 0.00000000e+00]\n",
      "```\n",
      "\n",
      "This output indicates that the linear regression model can be expressed as follows:\n",
      "\n",
      "\\[ \\text{Predicted } y = 2 + 1 \\cdot x_1 + 0 \\cdot x_2 \\]\n",
      "\n",
      "### Summary\n",
      "\n",
      "This function is a straightforward implementation of linear regression using the Normal Equation. It effectively models the relationship between dependent and independent variables, returning coefficients that characterize this relationship. Given this approach's direct computation of coefficients, it is efficient for small- to medium-sized datasets; however, it may not be practical for very large datasets due to the computational demand of matrix inversion.\u001b[0m\n",
      "\n",
      "\u001b[1m> Finished chain.\u001b[0m\n"
     ]
    }
   ],
   "source": [
    "from langchain_openai import ChatOpenAI\n",
    "from langchain import PromptTemplate\n",
    "from langchain.chains import LLMChain, SimpleSequentialChain\n",
    "\n",
    "llm1 = ChatOpenAI(model=\"gpt-3.5-turbo\", temperature=0.5, api_key=API_KEY)\n",
    "prompt_template1 = PromptTemplate.from_template(\n",
    "\ttemplate=\"You are an experience scientist and Python Programmer. Write a function that implements the concept of {concept}\"\n",
    "\t\n",
    ")\n",
    "\n",
    "chain1 = LLMChain(llm=llm1, prompt=prompt_template1)\n",
    "\n",
    "llm2 = ChatOpenAI(model=\"gpt-4o-mini\", temperature=1.2, api_key=API_KEY)\n",
    "prompt_template2 = PromptTemplate.from_template(\n",
    "\ttemplate=\"Given the Python function {function}, describe it as detailled as possible\"\n",
    ")\n",
    "\n",
    "chain2 = LLMChain(llm=llm2, prompt=prompt_template2)\n",
    "\n",
    "overall_chain = SimpleSequentialChain(chains=[chain1, chain2], verbose=True)\n",
    "\n",
    "output = overall_chain.invoke(\"linear regression\") # input of the first chain"
   ]
  },
  {
   "cell_type": "code",
   "execution_count": 26,
   "metadata": {},
   "outputs": [
    {
     "name": "stdout",
     "output_type": "stream",
     "text": [
      "Certainly! Let's break down the provided Python function for linear regression step by step, understanding each component in detail:\n",
      "\n",
      "### Overview\n",
      "\n",
      "Linear regression is a statistical method used to model and analyze the relationship between a dependent variable (response) and one or more independent variables (predictors). The goal is to find the best-fitting linear equation that describes how the dependent variable changes as the independent variables change.\n",
      "\n",
      "In this case, we implement linear regression using the **Normal Equation**, which provides a method for directly calculating the coefficients of the regression line based on the provided data.\n",
      "\n",
      "### Code Breakdown\n",
      "\n",
      "#### 1. Importing Necessary Libraries\n",
      "\n",
      "```python\n",
      "import numpy as np\n",
      "```\n",
      "\n",
      "- The code begins by importing the NumPy library (imported as `np`), which is a fundamental package for scientific computing in Python. It provides support for handling arrays and performing mathematical operations efficiently.\n",
      "\n",
      "#### 2. Defining the `linear_regression` Function\n",
      "\n",
      "```python\n",
      "def linear_regression(X, y):\n",
      "```\n",
      "\n",
      "- Here we define a function named `linear_regression` that takes two parameters:\n",
      "  - `X`: A 2D numpy array or matrix where each row represents a data point (observation) and each column represents a feature (independent variable).\n",
      "  - `y`: A 1D numpy array or vector containing the target or dependent variable values corresponding to each observation in `X`.\n",
      "\n",
      "#### 3. Adding an Intercept Term\n",
      "\n",
      "```python\n",
      "X = np.hstack((np.ones((X.shape[0], 1)), X))\n",
      "```\n",
      "\n",
      "- To account for the intercept in the linear equation (which represents the value of `y` when all predictors are zero), we need to add a column of ones to the left of the features matrix `X`.\n",
      "  \n",
      "  - `X.shape[0]` returns the number of rows in `X`, which is the number of observations.\n",
      "  - `np.ones((X.shape[0], 1))` creates a column vector of ones with the same number of rows as `X`.\n",
      "  - `np.hstack(...)` horizontally stacks the column of ones and the original `X` to create an augmented matrix. The modified version of `X` now includes a column of ones as its first column.\n",
      "\n",
      "#### 4. Calculating the Coefficients Using the Normal Equation\n",
      "\n",
      "```python\n",
      "theta = np.linalg.inv(X.T.dot(X)).dot(X.T).dot(y)\n",
      "```\n",
      "\n",
      "- This line uses the **Normal Equation** to compute the optimal parameters (coefficients) for the linear regression.\n",
      "  \n",
      "  - **Normal Equation Formula**: \\[ \\Theta = (X^TX)^{-1}X^Ty \\]\n",
      "    - `X.T.dot(X)` computes the dot product of the transpose of X (`X^T`) with X, yielding a square matrix.\n",
      "    - `np.linalg.inv(X.T.dot(X))` takes the inverse of the calculated matrix. This step can only be performed if `(X^TX)` is invertible.\n",
      "    - `X.T.dot(y)` computes the product of the transpose of X and the target vector y.\n",
      "    - The overall dot product calculates the coefficients `theta`. This vector contains the weight for each feature, including the intercept term.\n",
      "\n",
      "#### 5. Returning the Coefficients\n",
      "\n",
      "```python\n",
      "return theta\n",
      "```\n",
      "\n",
      "- Finally, the function returns the computed coefficients `theta`, which represents the linear regression model defined by the input features and target variable.\n",
      "\n",
      "### Example Usage\n",
      "\n",
      "```python\n",
      "# Example usage\n",
      "X = np.array([[1, 2], [2, 3], [3, 4], [4, 5]])\n",
      "y = np.array([3, 4, 5, 6])\n",
      "\n",
      "theta = linear_regression(X, y)\n",
      "print(theta)\n",
      "```\n",
      "\n",
      "- The example creates a simple dataset:\n",
      "  - `X` is a 2D array with four data points, each having two features.\n",
      "  - `y` is the corresponding output values for those points.\n",
      "  \n",
      "- When `linear_regression(X, y)` is invoked, it computes the coefficients for the linear regression based on the input data. The result, stored in `theta`, is printed to the console.\n",
      "\n",
      "### Expected Output\n",
      "\n",
      "- Running this code with the provided data will output coefficients, which might resemble something like this:\n",
      "\n",
      "```\n",
      "[2.00000000e+00 1.00000000e+00 0.00000000e+00]\n",
      "```\n",
      "\n",
      "This output indicates that the linear regression model can be expressed as follows:\n",
      "\n",
      "\\[ \\text{Predicted } y = 2 + 1 \\cdot x_1 + 0 \\cdot x_2 \\]\n",
      "\n",
      "### Summary\n",
      "\n",
      "This function is a straightforward implementation of linear regression using the Normal Equation. It effectively models the relationship between dependent and independent variables, returning coefficients that characterize this relationship. Given this approach's direct computation of coefficients, it is efficient for small- to medium-sized datasets; however, it may not be practical for very large datasets due to the computational demand of matrix inversion.\n"
     ]
    }
   ],
   "source": [
    "print(output[\"output\"])"
   ]
  },
  {
   "cell_type": "markdown",
   "metadata": {},
   "source": [
    "## LangChain Agents in Action: Python REPL"
   ]
  },
  {
   "cell_type": "code",
   "execution_count": 28,
   "metadata": {},
   "outputs": [
    {
     "name": "stderr",
     "output_type": "stream",
     "text": [
      "Python REPL can execute arbitrary code. Use with caution.\n"
     ]
    },
    {
     "data": {
      "text/plain": [
       "{'input': 'calculate the square root of the factorial of 12 and display it with 4 decimal points',\n",
       " 'output': '21886.1052'}"
      ]
     },
     "execution_count": 28,
     "metadata": {},
     "output_type": "execute_result"
    }
   ],
   "source": [
    "from langchain_experimental.agents.agent_toolkits import create_python_agent\n",
    "\n",
    "from langchain_experimental.tools.python.tool import PythonREPLTool\n",
    "\n",
    "from langchain_openai import ChatOpenAI\n",
    "\n",
    "llm =  ChatOpenAI(model=\"gpt-4o-mini\", temperature=0, api_key=API_KEY)\n",
    "\n",
    "agent_executer = create_python_agent(\n",
    "\tllm = llm,\n",
    "\ttool=PythonREPLTool(),\n",
    ")\n",
    "\n",
    "agent_executer.invoke(\"calculate the square root of the factorial of 12 and display it with 4 decimal points\")"
   ]
  },
  {
   "cell_type": "markdown",
   "metadata": {},
   "source": [
    "## LangChain Tools: DuckDuckGo and Wikipedia"
   ]
  },
  {
   "cell_type": "code",
   "execution_count": null,
   "metadata": {},
   "outputs": [],
   "source": [
    "from langchain.tools import DuckDuckGoSearchRun\n",
    "\n",
    "search = DuckDuckGoSearchRun()\n",
    "\n",
    "output = search.invoke(\"Where were Freddy Mercury Born ?\") #search the web"
   ]
  },
  {
   "cell_type": "code",
   "execution_count": 30,
   "metadata": {},
   "outputs": [
    {
     "name": "stdout",
     "output_type": "stream",
     "text": [
      "Freddie Mercury, born Farrokh Bulsara on September 5, 1946, in Zanzibar, grew up in a privileged environment. His parents, Bomi and Jer Bulsara, were Parsees who moved to Tanzania, where Bomi worked for the British government. The family enjoyed a comfortable lifestyle, complete with a nanny and domestic help. ... Queen singer Freddie Mercury was born to Parsi Indian parents in Stone Town, Tanzania (then Zanzibar, a British protectorate) on September 5, 1946. Phil Dent / Redferns / Via Getty Freddie Mercury, whose birth name was Farrokh Bulsara, was born in Zanzibar because his parents, Bomi and Jer Bulsara, were living there at the time. Zanzibar was a British protectorate, and his father worked for the British Colonial Office. Freddie Mercury was born Farrokh Bulsara on September 5th, 1946 in Stone Town, Sultanate of Zanzibar (now Tanzania). He was of Parsi descent and grew up there and in India before moving with his family to Middlesex, England, in his teens. ... In attendance at Mercury's service were his family and 35 of his close friends, including the ... Known for his flamboyant stage presence and powerful vocals, Freddie Mercury was born as Farrokh Bulsara on September 5, 1946, in Zanzibar, a small island off the coast of East Africa. He spent much of his early life in India, where he attended St. Peter's School in Panchgani. ... Freddie Mercury's live performances were legendary ...\n"
     ]
    }
   ],
   "source": [
    "print(output)"
   ]
  },
  {
   "cell_type": "code",
   "execution_count": 32,
   "metadata": {},
   "outputs": [
    {
     "name": "stdout",
     "output_type": "stream",
     "text": [
      "snippet: Freddie Mercury of Queen, interview and photo session for 'Music Life' magazine, on the band's Hot Space Japan tour at a hotel in Fukuoka, Japan, 19 October 1982. It was the band's fifth visit to Japan. (Photo by Midori Tsukagoshi/ShinkoMusic/Getty Images), title: The Truth Behind Freddie Mercury's Relationship With His Queen Bandmates, link: https://societyofrock.com/the-truth-behind-freddie-mercurys-relationship-with-his-queen-bandmates/, snippet: Freddie Mercury's flamboyant stage presence and powerful vocals are undeniably iconic, but his influence goes far beyond the music. His bond with his Queen bandmates, Brian May, John Deacon, and Roger Taylor, was a key part of the band's success. These four men shared a unique creative partnership, experiencing the highs and lows of fame […], title: Freddie Mercury's Real Relationship With His Bandmates In Queen, link: https://iloveclassicrock.com/freddie-mercurys-real-relationship-with-his-bandmates-in-queen/, snippet: Brian May has looked back on the \"unnerving\" experience of working with Freddie Mercury during Queen's early days. Describing his late bandmate as a \"born performer\", May says that Mercury already had the makings of a rockstar the first time they'd met., title: \"Not everybody liked him. A lot of people found him kind of abrasive ..., link: https://guitar.com/news/music-news/queen-brian-may-freddie-mercury-relationship/, snippet: Outside of his work with Queen, Freddie Mercury recorded some solo material, including two solo albums and several singles. Read more: Queen's 20 greatest ever songs His two solo albums were Mr. Bad Guy (1985) and Barcelona (1988). In 1993, a remix of 'Living on My Own', posthumously reached number one in the UK., title: Freddie Mercury facts: Queen singer's career, family, real name ..., link: https://www.smoothradio.com/artists/freddie-mercury/facts-death-teeth-songs-age-net-worth/\n"
     ]
    }
   ],
   "source": [
    "from langchain.tools import DuckDuckGoSearchResults\n",
    "search = DuckDuckGoSearchResults()\n",
    "output = search.run('Freddie Mercury and Queen.')\n",
    "print(output)"
   ]
  },
  {
   "cell_type": "code",
   "execution_count": 33,
   "metadata": {},
   "outputs": [],
   "source": [
    "from langchain_community.utilities import DuckDuckGoSearchAPIWrapper\n",
    "\n",
    "wrapper = DuckDuckGoSearchAPIWrapper(region=\"de-de\", max_results=3, safesearch=\"moderate\")\n",
    "search = DuckDuckGoSearchResults(api_wrapper=wrapper, sources=\"news\")\n",
    "output = search.run(\"Berlin\")"
   ]
  },
  {
   "cell_type": "code",
   "execution_count": 34,
   "metadata": {},
   "outputs": [
    {
     "name": "stdout",
     "output_type": "stream",
     "text": [
      "snippet: Berlin [bɛr'li:n] ist die Hauptstadt [12] und ein Land der Bundesrepublik Deutschland. [13] [14] Die Großstadt ist mit rund 3,7 Millionen Einwohnern [15] die bevölkerungsreichste und mit 891 Quadratkilometern die flächengrößte Gemeinde Deutschlands sowie die bevölkerungsreichste Stadt der Europäischen Union. [4], title: Berlin - Wikipedia, link: https://de.wikipedia.org/wiki/Berlin, snippet: Immer wieder eine Reise wert: Berlin ist im ständigen Wandel. Die Highlights und Neuheiten zwischen Ku'damm und Alexanderplatz, mit Karte. Die besten Aussichtsplätze und Sightseeing-Touren. Auf den Spuren der Berliner Mauer. Grünes Berlin am Tempelhofer Feld und im Park am Gleisdreieck, title: 20 Sehenswürdigkeiten in Berlin: Die besten Tipps für 2025 - ADAC, link: https://www.adac.de/reise-freizeit/reiseplanung/inspirationen/deutschland/sehenswuerdigkeiten-berlin/, snippet: Die dokumentierte Geschichte der Stadt Berlin begann im Hochmittelalter mit der Gründung von zwei Handelsorten. Urkundlich erstmals erwähnt wurde Berlin im Jahr 1244, das benachbarte Kölln bereits 1237. Archäologische Funde legen nahe, dass der Berliner Raum schon Jahrhunderte zuvor besiedelt war., title: Geschichte Berlins - Wikipedia, link: https://de.wikipedia.org/wiki/Geschichte_Berlins, snippet: Jedes Jahr strömen tausende Menschen nach Berlin, um die Stadt, ihre Besonderheiten, Attraktionen und die bewegte Vergangenheit kennenzulernen. Ob architektonische Highlights, geschichtsträchtige Bauten oder Orte der Erinnerung. Damit ihr auch wirklich nichts verpasst, stellen wir euch die 12 wichtigsten Sehenswürdigkeiten in ..., title: Die wichtigsten Sehenswürdigkeiten in Berlin: Die Touri-Checklist, link: https://www.tip-berlin.de/berlin-besucher/sehenswuerdigkeiten/wichtigste-sehenswuerdigkeiten-berlin/\n"
     ]
    }
   ],
   "source": [
    "print(output)"
   ]
  },
  {
   "cell_type": "code",
   "execution_count": 35,
   "metadata": {},
   "outputs": [],
   "source": [
    "import re\n",
    "pattern = r'snippet: (.*?), title: (.*?), link: (.*?)\\],'\n",
    "matches = re.findall(pattern, output, re.DOTALL)\n",
    "\n",
    "for snippet, title, link in matches:\n",
    "    print(f'Snippet: {snippet}\\nTitle: {title}\\nLink: {link}\\n')\n",
    "    print('-' * 50)"
   ]
  },
  {
   "cell_type": "code",
   "execution_count": null,
   "metadata": {},
   "outputs": [],
   "source": []
  }
 ],
 "metadata": {
  "kernelspec": {
   "display_name": ".venv",
   "language": "python",
   "name": "python3"
  },
  "language_info": {
   "codemirror_mode": {
    "name": "ipython",
    "version": 3
   },
   "file_extension": ".py",
   "mimetype": "text/x-python",
   "name": "python",
   "nbconvert_exporter": "python",
   "pygments_lexer": "ipython3",
   "version": "3.12.4"
  }
 },
 "nbformat": 4,
 "nbformat_minor": 2
}
